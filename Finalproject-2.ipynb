{
 "cells": [
  {
   "cell_type": "markdown",
   "metadata": {},
   "source": [
    "Gabriela Diaz\n"
   ]
  },
  {
   "cell_type": "markdown",
   "metadata": {},
   "source": [
    "<font size=\"6\"> $\\color{light}{\\text{SAFEST NEIGHBORHOOD}}$</font>"
   ]
  },
  {
   "cell_type": "markdown",
   "metadata": {},
   "source": [
    "<font size=\"3\">$\\color{Blue}{\\text{LEAST AMOUNT OF FIRES PER NEIGHBORHOOD}}$</font>"
   ]
  },
  {
   "cell_type": "markdown",
   "metadata": {},
   "source": [
    "**Introduction**\n",
    "\n",
    "What is the safest neighborhood in Pittsburgh taking into account how many fires happen in each neighborhood? This dataset utilizes data from the Pittsburgh Bureau of Fire ranging from 2013 up to current date. \n",
    "\n",
    "Dataset: <a href=\"https://data.wprdc.org/dataset/fire-incidents-in-city-of-pittsburgh/resource/8d76ac6b-5ae8-4428-82a4-043130d17b02?view_id=db1ccf7c-fab0-4d5c-af3e-245ebe766be2\">Fire incidents in Pittsburgh</a>\n"
   ]
  },
  {
   "cell_type": "markdown",
   "metadata": {},
   "source": [
    "![Spirited Away](https://media.giphy.com/media/PQh01joFJlU6A/giphy.gif)\n"
   ]
  },
  {
   "cell_type": "markdown",
   "metadata": {},
   "source": [
    "---------------------------------------------\n",
    "In the following project I will:\n",
    "1. Filter out the data to only have useful information that contributes to the overall project. \n",
    "2. Compare incidents that accured over the years and tie them to their coressponding neighborhood. \n",
    "3. Utilize the data collected to decide what is the safest neighborhood in Pittsburgh when it comes to having the least fire incidents. "
   ]
  },
  {
   "cell_type": "code",
   "execution_count": null,
   "metadata": {},
   "outputs": [],
   "source": [
    "import colorama\n",
    "from colorama import Fore\n",
    "import pandas as pd\n",
    "%matplotlib\n",
    "data = pd.read_csv(\"fires.csv\", sep=\",\")\n",
    "import matplotlib.pyplot as plt"
   ]
  },
  {
   "cell_type": "markdown",
   "metadata": {},
   "source": [
    "<font size=\"3\">$\\color{Blue}{\\text{1. Filter}}$</font>"
   ]
  },
  {
   "cell_type": "markdown",
   "metadata": {},
   "source": [
    "Here I'm just taking out some columns that aren't relevent to the task at hand like latitude, longitude etc.  "
   ]
  },
  {
   "cell_type": "code",
   "execution_count": 23,
   "metadata": {},
   "outputs": [
    {
     "data": {
      "text/html": [
       "<div>\n",
       "<style scoped>\n",
       "    .dataframe tbody tr th:only-of-type {\n",
       "        vertical-align: middle;\n",
       "    }\n",
       "\n",
       "    .dataframe tbody tr th {\n",
       "        vertical-align: top;\n",
       "    }\n",
       "\n",
       "    .dataframe thead th {\n",
       "        text-align: right;\n",
       "    }\n",
       "</style>\n",
       "<table border=\"1\" class=\"dataframe\">\n",
       "  <thead>\n",
       "    <tr style=\"text-align: right;\">\n",
       "      <th></th>\n",
       "      <th>type_description</th>\n",
       "      <th>address</th>\n",
       "      <th>alarm_time</th>\n",
       "      <th>neighborhood</th>\n",
       "    </tr>\n",
       "  </thead>\n",
       "  <tbody>\n",
       "    <tr>\n",
       "      <th>74</th>\n",
       "      <td>Building fire</td>\n",
       "      <td>5800 BLOCK BEACON ST, PITTSBURGH PA 15217</td>\n",
       "      <td>2014-03-18T15:28:00</td>\n",
       "      <td>Squirrel Hill South</td>\n",
       "    </tr>\n",
       "    <tr>\n",
       "      <th>860</th>\n",
       "      <td>Outside rubbish, trash or waste fire</td>\n",
       "      <td>2100 BLOCK MURRAY AVE, PITTSBURGH PA 15217</td>\n",
       "      <td>2022-04-21T22:17:40</td>\n",
       "      <td>Squirrel Hill South</td>\n",
       "    </tr>\n",
       "    <tr>\n",
       "      <th>422</th>\n",
       "      <td>Cooking fire, confined to container</td>\n",
       "      <td>8100 BLOCK CONEMAUGH ST, PITTSBURGH PA 15221</td>\n",
       "      <td>2013-06-17T02:17:08</td>\n",
       "      <td>East Hills</td>\n",
       "    </tr>\n",
       "    <tr>\n",
       "      <th>732</th>\n",
       "      <td>Brush or brush-and-grass mixture fire</td>\n",
       "      <td>SEAL ST &amp; BEDFORD AVE, PITTSBURGH PA 15219</td>\n",
       "      <td>2020-06-01T13:24:10</td>\n",
       "      <td>Middle Hill</td>\n",
       "    </tr>\n",
       "    <tr>\n",
       "      <th>33</th>\n",
       "      <td>Cooking fire, confined to container</td>\n",
       "      <td>5500 BLOCK PHILLIPS AVE, PITTSBURGH PA 15217</td>\n",
       "      <td>2014-02-03T18:15:56</td>\n",
       "      <td>Squirrel Hill South</td>\n",
       "    </tr>\n",
       "    <tr>\n",
       "      <th>57</th>\n",
       "      <td>Cooking fire, confined to container</td>\n",
       "      <td>500 BLOCK OAKWOOD ST, PITTSBURGH PA 15208</td>\n",
       "      <td>2015-03-06T13:22:58</td>\n",
       "      <td>East Hills</td>\n",
       "    </tr>\n",
       "    <tr>\n",
       "      <th>313</th>\n",
       "      <td>Grass fire</td>\n",
       "      <td>5700 BLOCK PHILLIPS AVE, PITTSBURGH PA 15217</td>\n",
       "      <td>2014-07-04T10:41:49</td>\n",
       "      <td>Squirrel Hill South</td>\n",
       "    </tr>\n",
       "    <tr>\n",
       "      <th>347</th>\n",
       "      <td>Building fire</td>\n",
       "      <td>2400 BLOCK SHADY AVE, PITTSBURGH PA 15217</td>\n",
       "      <td>2015-11-16T10:37:14</td>\n",
       "      <td>Squirrel Hill South</td>\n",
       "    </tr>\n",
       "    <tr>\n",
       "      <th>248</th>\n",
       "      <td>Special outside fire, Other</td>\n",
       "      <td>100 BLOCK OAK HILL DR, PITTSBURGH PA 15219</td>\n",
       "      <td>2013-03-03T17:15:14</td>\n",
       "      <td>Terrace Village</td>\n",
       "    </tr>\n",
       "    <tr>\n",
       "      <th>275</th>\n",
       "      <td>Cooking fire, confined to container</td>\n",
       "      <td>100 BLOCK TECH ST, PITTSBURGH PA 15217</td>\n",
       "      <td>2013-04-22T12:01:39</td>\n",
       "      <td>Squirrel Hill North</td>\n",
       "    </tr>\n",
       "  </tbody>\n",
       "</table>\n",
       "</div>"
      ],
      "text/plain": [
       "                          type_description  \\\n",
       "74                           Building fire   \n",
       "860   Outside rubbish, trash or waste fire   \n",
       "422    Cooking fire, confined to container   \n",
       "732  Brush or brush-and-grass mixture fire   \n",
       "33     Cooking fire, confined to container   \n",
       "57     Cooking fire, confined to container   \n",
       "313                             Grass fire   \n",
       "347                          Building fire   \n",
       "248            Special outside fire, Other   \n",
       "275    Cooking fire, confined to container   \n",
       "\n",
       "                                          address           alarm_time  \\\n",
       "74      5800 BLOCK BEACON ST, PITTSBURGH PA 15217  2014-03-18T15:28:00   \n",
       "860    2100 BLOCK MURRAY AVE, PITTSBURGH PA 15217  2022-04-21T22:17:40   \n",
       "422  8100 BLOCK CONEMAUGH ST, PITTSBURGH PA 15221  2013-06-17T02:17:08   \n",
       "732    SEAL ST & BEDFORD AVE, PITTSBURGH PA 15219  2020-06-01T13:24:10   \n",
       "33   5500 BLOCK PHILLIPS AVE, PITTSBURGH PA 15217  2014-02-03T18:15:56   \n",
       "57      500 BLOCK OAKWOOD ST, PITTSBURGH PA 15208  2015-03-06T13:22:58   \n",
       "313  5700 BLOCK PHILLIPS AVE, PITTSBURGH PA 15217  2014-07-04T10:41:49   \n",
       "347     2400 BLOCK SHADY AVE, PITTSBURGH PA 15217  2015-11-16T10:37:14   \n",
       "248    100 BLOCK OAK HILL DR, PITTSBURGH PA 15219  2013-03-03T17:15:14   \n",
       "275        100 BLOCK TECH ST, PITTSBURGH PA 15217  2013-04-22T12:01:39   \n",
       "\n",
       "            neighborhood  \n",
       "74   Squirrel Hill South  \n",
       "860  Squirrel Hill South  \n",
       "422           East Hills  \n",
       "732          Middle Hill  \n",
       "33   Squirrel Hill South  \n",
       "57            East Hills  \n",
       "313  Squirrel Hill South  \n",
       "347  Squirrel Hill South  \n",
       "248      Terrace Village  \n",
       "275  Squirrel Hill North  "
      ]
     },
     "execution_count": 23,
     "metadata": {},
     "output_type": "execute_result"
    }
   ],
   "source": [
    "data = data.drop(columns=[\"call_no\",\"primary_unit\",\"alarms\",\"census_tract\",\"incident_type\",\"council_district\",\"tract\",\"pli_division\",\"longitude\",\"latitude\",\"fire_zone\",\"ward\",\"police_zone\",\"public_works_division\"])\n",
    "data.sample(10)"
   ]
  },
  {
   "cell_type": "markdown",
   "metadata": {},
   "source": [
    "----------------------------"
   ]
  },
  {
   "cell_type": "markdown",
   "metadata": {},
   "source": [
    "<font size=\"3\">$\\color{blue}{\\text{2. Compare}}$</font>"
   ]
  },
  {
   "cell_type": "markdown",
   "metadata": {},
   "source": [
    "![Spin!](https://media.giphy.com/media/hAuYWrVIyfK5G/giphy.gif)\n"
   ]
  },
  {
   "cell_type": "markdown",
   "metadata": {},
   "source": [
    "Before I can compare the data, I must categorize fires to neighborhoods and then represent that information in graph form."
   ]
  },
  {
   "cell_type": "markdown",
   "metadata": {},
   "source": [
    "**Values shown numerically**:"
   ]
  },
  {
   "cell_type": "code",
   "execution_count": 24,
   "metadata": {},
   "outputs": [
    {
     "name": "stdout",
     "output_type": "stream",
     "text": [
      "                       Number of fires\n",
      "Neighborhoods                         \n",
      "Squirrel Hill South                245\n",
      "Squirrel Hill North                125\n",
      "East Hills                         121\n",
      "Middle Hill                        103\n",
      "Spring Hill-City View               99\n",
      "Troy Hill                           77\n",
      "Upper Hill                          44\n",
      "Polish Hill                         38\n",
      "Summer Hill                         21\n",
      "Terrace Village                      6\n",
      "Bedford Dwellings                    2\n",
      "Greenfield                           1\n",
      "Beechview                            1\n"
     ]
    }
   ],
   "source": [
    "fires = data['neighborhood'].value_counts().rename_axis(\"Neighborhoods\").to_frame(name='Number of fires')\n",
    "\n",
    "print(fires)"
   ]
  },
  {
   "cell_type": "markdown",
   "metadata": {},
   "source": [
    "**Visually represented:**"
   ]
  },
  {
   "cell_type": "code",
   "execution_count": 33,
   "metadata": {},
   "outputs": [
    {
     "data": {
      "image/png": "[encoded data removed]",
      "text/plain": [
       "<Figure size 432x288 with 1 Axes>"
      ]
     },
     "metadata": {
      "needs_background": "light"
     },
     "output_type": "display_data"
    }
   ],
   "source": [
    "%matplotlib inline\n",
    "fires.plot.bar(title='Amount of Fires in each Neighborhood ')\n",
    "plt.xlabel(\"Neighborhoods\")\n",
    "plt.ylabel(\"Amount of fires\")\n",
    "plt.show()"
   ]
  },
  {
   "cell_type": "markdown",
   "metadata": {},
   "source": [
    "-----------------------------"
   ]
  },
  {
   "cell_type": "markdown",
   "metadata": {},
   "source": [
    "<font size=\"3\">$\\color{Blue}{\\text{3. Results}}$</font>"
   ]
  },
  {
   "cell_type": "markdown",
   "metadata": {},
   "source": [
    "![Bye!](https://media.giphy.com/media/3oz8xTAJIQD6JWfTUc/giphy.gif)"
   ]
  },
  {
   "cell_type": "markdown",
   "metadata": {},
   "source": [
    "Based on the data, **Squirrel Hill South** has had the highest amount of fires in the past year and **Beechview** has the least amount of fires.\n",
    "Making Squirrel Hill South the least safe and Beechview the safest community in Pittsburgh. "
   ]
  },
  {
   "cell_type": "code",
   "execution_count": null,
   "metadata": {},
   "outputs": [],
   "source": []
  }
 ],
 "metadata": {
  "kernelspec": {
   "display_name": "Python 3",
   "language": "python",
   "name": "python3"
  },
  "language_info": {
   "codemirror_mode": {
    "name": "ipython",
    "version": 3
   },
   "file_extension": ".py",
   "mimetype": "text/x-python",
   "name": "python",
   "nbconvert_exporter": "python",
   "pygments_lexer": "ipython3",
   "version": "3.8.3"
  }
 },
 "nbformat": 4,
 "nbformat_minor": 4
}
