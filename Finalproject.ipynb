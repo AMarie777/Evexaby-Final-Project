# Safest Neighborhood in Pittsburgh
**Alexa Mckee, Eva Choudhury, Gabriela Diaz

## Introduction
...

## Metrics Used
...

## Final Winner :0 !!
...

## Conclusions

- Alexa
...

- Eva
...

- Gaby
...
