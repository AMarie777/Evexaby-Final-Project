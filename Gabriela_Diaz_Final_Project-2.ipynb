{
 "cells": [
  {
   "cell_type": "markdown",
   "metadata": {},
   "source": [
    "Gabriela Diaz\n"
   ]
  },
  {
   "cell_type": "markdown",
   "metadata": {},
   "source": [
    "<font size=\"6\"> $\\color{Purple}{\\text{SAFEST NEIGHBORHOOD}}$</font>"
   ]
  },
  {
   "cell_type": "markdown",
   "metadata": {},
   "source": [
    "<font size=\"3\">$\\color{Blue}{\\text{LEAST AMOUNT OF FIRES PER NEIGHBORHOOD}}$</font>"
   ]
  },
  {
   "cell_type": "markdown",
   "metadata": {},
   "source": [
    "**Introduction**\n",
    "\n",
    "What is the safest neighborhood in Pittsburgh taking into account how many fires happen in each neighborhood? This dataset utilizes data from the Pittsburgh Bureau of Fire ranging from 2013 up to current date. \n",
    "\n",
    "Dataset: <a href=\"https://data.wprdc.org/dataset/fire-incidents-in-city-of-pittsburgh/resource/8d76ac6b-5ae8-4428-82a4-043130d17b02?view_id=db1ccf7c-fab0-4d5c-af3e-245ebe766be2\">Fire incidents in Pittsburgh</a>\n"
   ]
  },
  {
   "cell_type": "markdown",
   "metadata": {},
   "source": [
    "![Spirited Away](https://media.giphy.com/media/PQh01joFJlU6A/giphy.gif)\n"
   ]
  },
  {
   "cell_type": "markdown",
   "metadata": {},
   "source": [
    "---------------------------------------------\n",
    "In the following project I will:\n",
    "1. Filter out the data to only have useful information that contributes to the overall project. \n",
    "2. Compare incidents that accured over the years and tie them to their coressponding neighborhood. \n",
    "3. Utilize the data collected to decide what is the safest neighborhood in Pittsburgh when it comes to having the least fire incidents. "
   ]
  },
  {
   "cell_type": "code",
   "execution_count": 33,
   "metadata": {},
   "outputs": [
    {
     "name": "stdout",
     "output_type": "stream",
     "text": [
      "Using matplotlib backend: agg\n"
     ]
    }
   ],
   "source": [
    "\n",
    "import pandas as pd\n",
    "%matplotlib\n",
    "data = pd.read_csv(\"Fire.csv\", sep=\",\")\n",
    "import matplotlib.pyplot as plt"
   ]
  },
  {
   "cell_type": "markdown",
   "metadata": {},
   "source": [
    "<font size=\"3\">$\\color{Blue}{\\text{1. Filter}}$</font>"
   ]
  },
  {
   "cell_type": "markdown",
   "metadata": {},
   "source": [
    "Here I'm just taking out some columns that aren't relevent to the task at hand like latitude, longitude etc.  "
   ]
  },
  {
   "cell_type": "code",
   "execution_count": 34,
   "metadata": {},
   "outputs": [],
   "source": [
    "data = data.drop(columns= [\"call_no\",\"primary_unit\",\"alarms\",\"census_tract\",\"incident_type\",\"council_district\",\"tract\",\"pli_division\",\"longitude\",\"latitude\",\"fire_zone\",\"ward\",\"police_zone\",\"public_works_division\"])\n",
    "mask = data['neighborhood']!= ('NaN')\n",
    "data = data[mask]"
   ]
  },
  {
   "cell_type": "code",
   "execution_count": 36,
   "metadata": {},
   "outputs": [
    {
     "data": {
      "text/html": [
       "<div>\n",
       "<style scoped>\n",
       "    .dataframe tbody tr th:only-of-type {\n",
       "        vertical-align: middle;\n",
       "    }\n",
       "\n",
       "    .dataframe tbody tr th {\n",
       "        vertical-align: top;\n",
       "    }\n",
       "\n",
       "    .dataframe thead th {\n",
       "        text-align: right;\n",
       "    }\n",
       "</style>\n",
       "<table border=\"1\" class=\"dataframe\">\n",
       "  <thead>\n",
       "    <tr style=\"text-align: right;\">\n",
       "      <th></th>\n",
       "      <th>type_description</th>\n",
       "      <th>address</th>\n",
       "      <th>alarm_time</th>\n",
       "      <th>neighborhood</th>\n",
       "    </tr>\n",
       "  </thead>\n",
       "  <tbody>\n",
       "    <tr>\n",
       "      <th>7873</th>\n",
       "      <td>Cooking fire, confined to container</td>\n",
       "      <td>600 BLOCK LILLIAN ST, PITTSBURGH PA 15210</td>\n",
       "      <td>2021-06-07T01:23:55</td>\n",
       "      <td>Allentown</td>\n",
       "    </tr>\n",
       "    <tr>\n",
       "      <th>7097</th>\n",
       "      <td>Passenger vehicle fire</td>\n",
       "      <td>3300 BLOCK DELAWARE ST, PITTSBURGH PA 15214</td>\n",
       "      <td>2020-06-28T19:45:27</td>\n",
       "      <td>NaN</td>\n",
       "    </tr>\n",
       "    <tr>\n",
       "      <th>6944</th>\n",
       "      <td>Brush or brush-and-grass mixture fire</td>\n",
       "      <td>400 BLOCK FORBES AVE, PITTSBURGH PA 15219</td>\n",
       "      <td>2020-04-29T16:53:25</td>\n",
       "      <td>North Oakland</td>\n",
       "    </tr>\n",
       "    <tr>\n",
       "      <th>81</th>\n",
       "      <td>Cooking fire, confined to container</td>\n",
       "      <td>1000 BLOCK FINDLEY DR, PITTSBURGH PA 15221</td>\n",
       "      <td>2013-12-12T22:58:00</td>\n",
       "      <td>NaN</td>\n",
       "    </tr>\n",
       "    <tr>\n",
       "      <th>3166</th>\n",
       "      <td>Trash or rubbish fire, contained</td>\n",
       "      <td>600 BLOCK MAYTIDE ST, PITTSBURGH PA 15227</td>\n",
       "      <td>2015-11-18T07:46:22</td>\n",
       "      <td>Carrick</td>\n",
       "    </tr>\n",
       "    <tr>\n",
       "      <th>1018</th>\n",
       "      <td>Building fire</td>\n",
       "      <td>1000 BLOCK GOEHRING ST, PITTSBURGH PA 15212</td>\n",
       "      <td>2016-04-14T23:51:18</td>\n",
       "      <td>Spring Hill-City View</td>\n",
       "    </tr>\n",
       "    <tr>\n",
       "      <th>5917</th>\n",
       "      <td>Cooking fire, confined to container</td>\n",
       "      <td>1700 BLOCK BELLEAU DR, PITTSBURGH PA 15214</td>\n",
       "      <td>2018-12-23T15:54:27</td>\n",
       "      <td>Fineview</td>\n",
       "    </tr>\n",
       "    <tr>\n",
       "      <th>6887</th>\n",
       "      <td>Outside rubbish fire, Other</td>\n",
       "      <td>100 BLOCK ROHM WAY, PITTSBURGH PA 15211</td>\n",
       "      <td>2020-04-04T18:28:15</td>\n",
       "      <td>Mount Washington</td>\n",
       "    </tr>\n",
       "    <tr>\n",
       "      <th>8374</th>\n",
       "      <td>Building fire</td>\n",
       "      <td>400 BLOCK PARKWOOD RD, PITTSBURGH PA 15210</td>\n",
       "      <td>2022-03-13T18:03:01</td>\n",
       "      <td>Mt. Oliver</td>\n",
       "    </tr>\n",
       "    <tr>\n",
       "      <th>3800</th>\n",
       "      <td>Cooking fire, confined to container</td>\n",
       "      <td>5400 BLOCK BOSSART ST, PITTSBURGH PA 15206</td>\n",
       "      <td>2013-05-22T16:13:51</td>\n",
       "      <td>Morningside</td>\n",
       "    </tr>\n",
       "    <tr>\n",
       "      <th>7076</th>\n",
       "      <td>Fuel burner/boiler malfunction, fire confined</td>\n",
       "      <td>TIOGA ST &amp; ALBION ST, PITTSBURGH PA 15208</td>\n",
       "      <td>2020-06-20T21:18:12</td>\n",
       "      <td>Homewood South</td>\n",
       "    </tr>\n",
       "    <tr>\n",
       "      <th>701</th>\n",
       "      <td>Cooking fire, confined to container</td>\n",
       "      <td>1200 BLOCK BRIGHTON RD, PITTSBURGH PA 15212</td>\n",
       "      <td>2015-06-07T07:37:26</td>\n",
       "      <td>Central Northside</td>\n",
       "    </tr>\n",
       "    <tr>\n",
       "      <th>3556</th>\n",
       "      <td>Passenger vehicle fire</td>\n",
       "      <td>3900 BLOCK OAKDALE ST, PITTSBURGH PA 15214</td>\n",
       "      <td>2017-02-14T01:50:49</td>\n",
       "      <td>Perry North</td>\n",
       "    </tr>\n",
       "    <tr>\n",
       "      <th>404</th>\n",
       "      <td>Cooking fire, confined to container</td>\n",
       "      <td>1900 BLOCK MORRELL ST, PITTSBURGH PA 15212</td>\n",
       "      <td>2016-03-06T15:12:52</td>\n",
       "      <td>Brighton Heights</td>\n",
       "    </tr>\n",
       "    <tr>\n",
       "      <th>1322</th>\n",
       "      <td>Passenger vehicle fire</td>\n",
       "      <td>6400 BLOCK FRANKSTOWN AVE, PITTSBURGH PA 15206</td>\n",
       "      <td>2016-06-24T02:24:28</td>\n",
       "      <td>Larimer</td>\n",
       "    </tr>\n",
       "    <tr>\n",
       "      <th>1626</th>\n",
       "      <td>Building fire</td>\n",
       "      <td>800 BLOCK LORENZ AVE, PITTSBURGH PA 15204</td>\n",
       "      <td>2015-02-21T10:59:16</td>\n",
       "      <td>Elliott</td>\n",
       "    </tr>\n",
       "    <tr>\n",
       "      <th>106</th>\n",
       "      <td>Passenger vehicle fire</td>\n",
       "      <td>1700 BLOCK BUENA VISTA ST, PITTSBURGH PA 15212</td>\n",
       "      <td>2016-09-10T23:14:30</td>\n",
       "      <td>Central Northside</td>\n",
       "    </tr>\n",
       "    <tr>\n",
       "      <th>239</th>\n",
       "      <td>Passenger vehicle fire</td>\n",
       "      <td>3000 BLOCK NAOMI DR, PITTSBURGH PA 15207</td>\n",
       "      <td>2014-01-19T22:11:51</td>\n",
       "      <td>Glen Hazel</td>\n",
       "    </tr>\n",
       "    <tr>\n",
       "      <th>8795</th>\n",
       "      <td>Trash or rubbish fire, contained</td>\n",
       "      <td>1700 BLOCK CAREY WAY, PITTSBURGH PA 15203</td>\n",
       "      <td>2022-09-03T22:49:26</td>\n",
       "      <td>South Side Flats</td>\n",
       "    </tr>\n",
       "    <tr>\n",
       "      <th>1483</th>\n",
       "      <td>Trash or rubbish fire, contained</td>\n",
       "      <td>2200 BLOCK SOMERS DR, PITTSBURGH PA 15219</td>\n",
       "      <td>2017-07-05T00:26:06</td>\n",
       "      <td>Bedford Dwellings</td>\n",
       "    </tr>\n",
       "  </tbody>\n",
       "</table>\n",
       "</div>"
      ],
      "text/plain": [
       "                                   type_description  \\\n",
       "7873            Cooking fire, confined to container   \n",
       "7097                         Passenger vehicle fire   \n",
       "6944          Brush or brush-and-grass mixture fire   \n",
       "81              Cooking fire, confined to container   \n",
       "3166               Trash or rubbish fire, contained   \n",
       "1018                                  Building fire   \n",
       "5917            Cooking fire, confined to container   \n",
       "6887                    Outside rubbish fire, Other   \n",
       "8374                                  Building fire   \n",
       "3800            Cooking fire, confined to container   \n",
       "7076  Fuel burner/boiler malfunction, fire confined   \n",
       "701             Cooking fire, confined to container   \n",
       "3556                         Passenger vehicle fire   \n",
       "404             Cooking fire, confined to container   \n",
       "1322                         Passenger vehicle fire   \n",
       "1626                                  Building fire   \n",
       "106                          Passenger vehicle fire   \n",
       "239                          Passenger vehicle fire   \n",
       "8795               Trash or rubbish fire, contained   \n",
       "1483               Trash or rubbish fire, contained   \n",
       "\n",
       "                                             address           alarm_time  \\\n",
       "7873       600 BLOCK LILLIAN ST, PITTSBURGH PA 15210  2021-06-07T01:23:55   \n",
       "7097     3300 BLOCK DELAWARE ST, PITTSBURGH PA 15214  2020-06-28T19:45:27   \n",
       "6944       400 BLOCK FORBES AVE, PITTSBURGH PA 15219  2020-04-29T16:53:25   \n",
       "81        1000 BLOCK FINDLEY DR, PITTSBURGH PA 15221  2013-12-12T22:58:00   \n",
       "3166       600 BLOCK MAYTIDE ST, PITTSBURGH PA 15227  2015-11-18T07:46:22   \n",
       "1018     1000 BLOCK GOEHRING ST, PITTSBURGH PA 15212  2016-04-14T23:51:18   \n",
       "5917      1700 BLOCK BELLEAU DR, PITTSBURGH PA 15214  2018-12-23T15:54:27   \n",
       "6887         100 BLOCK ROHM WAY, PITTSBURGH PA 15211  2020-04-04T18:28:15   \n",
       "8374      400 BLOCK PARKWOOD RD, PITTSBURGH PA 15210  2022-03-13T18:03:01   \n",
       "3800      5400 BLOCK BOSSART ST, PITTSBURGH PA 15206  2013-05-22T16:13:51   \n",
       "7076       TIOGA ST & ALBION ST, PITTSBURGH PA 15208  2020-06-20T21:18:12   \n",
       "701      1200 BLOCK BRIGHTON RD, PITTSBURGH PA 15212  2015-06-07T07:37:26   \n",
       "3556      3900 BLOCK OAKDALE ST, PITTSBURGH PA 15214  2017-02-14T01:50:49   \n",
       "404       1900 BLOCK MORRELL ST, PITTSBURGH PA 15212  2016-03-06T15:12:52   \n",
       "1322  6400 BLOCK FRANKSTOWN AVE, PITTSBURGH PA 15206  2016-06-24T02:24:28   \n",
       "1626       800 BLOCK LORENZ AVE, PITTSBURGH PA 15204  2015-02-21T10:59:16   \n",
       "106   1700 BLOCK BUENA VISTA ST, PITTSBURGH PA 15212  2016-09-10T23:14:30   \n",
       "239         3000 BLOCK NAOMI DR, PITTSBURGH PA 15207  2014-01-19T22:11:51   \n",
       "8795       1700 BLOCK CAREY WAY, PITTSBURGH PA 15203  2022-09-03T22:49:26   \n",
       "1483       2200 BLOCK SOMERS DR, PITTSBURGH PA 15219  2017-07-05T00:26:06   \n",
       "\n",
       "               neighborhood  \n",
       "7873              Allentown  \n",
       "7097                    NaN  \n",
       "6944          North Oakland  \n",
       "81                      NaN  \n",
       "3166                Carrick  \n",
       "1018  Spring Hill-City View  \n",
       "5917               Fineview  \n",
       "6887       Mount Washington  \n",
       "8374             Mt. Oliver  \n",
       "3800            Morningside  \n",
       "7076         Homewood South  \n",
       "701       Central Northside  \n",
       "3556            Perry North  \n",
       "404        Brighton Heights  \n",
       "1322                Larimer  \n",
       "1626                Elliott  \n",
       "106       Central Northside  \n",
       "239              Glen Hazel  \n",
       "8795       South Side Flats  \n",
       "1483      Bedford Dwellings  "
      ]
     },
     "execution_count": 36,
     "metadata": {},
     "output_type": "execute_result"
    }
   ],
   "source": [
    "data.sample(20)"
   ]
  },
  {
   "cell_type": "markdown",
   "metadata": {},
   "source": [
    "----------------------------"
   ]
  },
  {
   "cell_type": "markdown",
   "metadata": {},
   "source": [
    "<font size=\"3\">$\\color{blue}{\\text{2. Compare}}$</font>"
   ]
  },
  {
   "cell_type": "markdown",
   "metadata": {},
   "source": [
    "![Spin!](https://media.giphy.com/media/hAuYWrVIyfK5G/giphy.gif)\n"
   ]
  },
  {
   "cell_type": "markdown",
   "metadata": {},
   "source": [
    "Before I can compare the data, I must categorize fires to neighborhoods and then represent that information in graph form."
   ]
  },
  {
   "cell_type": "markdown",
   "metadata": {},
   "source": [
    "**Values shown numerically UNSAFEST**:"
   ]
  },
  {
   "cell_type": "code",
   "execution_count": 62,
   "metadata": {},
   "outputs": [
    {
     "data": {
      "text/html": [
       "<div>\n",
       "<style scoped>\n",
       "    .dataframe tbody tr th:only-of-type {\n",
       "        vertical-align: middle;\n",
       "    }\n",
       "\n",
       "    .dataframe tbody tr th {\n",
       "        vertical-align: top;\n",
       "    }\n",
       "\n",
       "    .dataframe thead th {\n",
       "        text-align: right;\n",
       "    }\n",
       "</style>\n",
       "<table border=\"1\" class=\"dataframe\">\n",
       "  <thead>\n",
       "    <tr style=\"text-align: right;\">\n",
       "      <th></th>\n",
       "      <th>Number of fires</th>\n",
       "    </tr>\n",
       "    <tr>\n",
       "      <th>Neighborhoods</th>\n",
       "      <th></th>\n",
       "    </tr>\n",
       "  </thead>\n",
       "  <tbody>\n",
       "    <tr>\n",
       "      <th>Carrick</th>\n",
       "      <td>281</td>\n",
       "    </tr>\n",
       "    <tr>\n",
       "      <th>Central Business District</th>\n",
       "      <td>256</td>\n",
       "    </tr>\n",
       "    <tr>\n",
       "      <th>South Side Flats</th>\n",
       "      <td>253</td>\n",
       "    </tr>\n",
       "    <tr>\n",
       "      <th>Squirrel Hill South</th>\n",
       "      <td>247</td>\n",
       "    </tr>\n",
       "    <tr>\n",
       "      <th>Hazelwood</th>\n",
       "      <td>240</td>\n",
       "    </tr>\n",
       "    <tr>\n",
       "      <th>Mount Washington</th>\n",
       "      <td>210</td>\n",
       "    </tr>\n",
       "    <tr>\n",
       "      <th>East Liberty</th>\n",
       "      <td>200</td>\n",
       "    </tr>\n",
       "    <tr>\n",
       "      <th>Lincoln-Lemington-Belmar</th>\n",
       "      <td>190</td>\n",
       "    </tr>\n",
       "    <tr>\n",
       "      <th>Homewood South</th>\n",
       "      <td>185</td>\n",
       "    </tr>\n",
       "    <tr>\n",
       "      <th>Brookline</th>\n",
       "      <td>182</td>\n",
       "    </tr>\n",
       "  </tbody>\n",
       "</table>\n",
       "</div>"
      ],
      "text/plain": [
       "                           Number of fires\n",
       "Neighborhoods                             \n",
       "Carrick                                281\n",
       "Central Business District              256\n",
       "South Side Flats                       253\n",
       "Squirrel Hill South                    247\n",
       "Hazelwood                              240\n",
       "Mount Washington                       210\n",
       "East Liberty                           200\n",
       "Lincoln-Lemington-Belmar               190\n",
       "Homewood South                         185\n",
       "Brookline                              182"
      ]
     },
     "execution_count": 62,
     "metadata": {},
     "output_type": "execute_result"
    }
   ],
   "source": [
    "fires = data['neighborhood'].value_counts().rename_axis(\"Neighborhoods\").to_frame(name='Number of fires')\n",
    "fires.head(10)\n"
   ]
  },
  {
   "cell_type": "markdown",
   "metadata": {},
   "source": [
    "**Values shown numerically SAFEST**:"
   ]
  },
  {
   "cell_type": "code",
   "execution_count": 63,
   "metadata": {},
   "outputs": [
    {
     "data": {
      "text/html": [
       "<div>\n",
       "<style scoped>\n",
       "    .dataframe tbody tr th:only-of-type {\n",
       "        vertical-align: middle;\n",
       "    }\n",
       "\n",
       "    .dataframe tbody tr th {\n",
       "        vertical-align: top;\n",
       "    }\n",
       "\n",
       "    .dataframe thead th {\n",
       "        text-align: right;\n",
       "    }\n",
       "</style>\n",
       "<table border=\"1\" class=\"dataframe\">\n",
       "  <thead>\n",
       "    <tr style=\"text-align: right;\">\n",
       "      <th></th>\n",
       "      <th>Number of fires</th>\n",
       "    </tr>\n",
       "    <tr>\n",
       "      <th>Neighborhoods</th>\n",
       "      <th></th>\n",
       "    </tr>\n",
       "  </thead>\n",
       "  <tbody>\n",
       "    <tr>\n",
       "      <th>Swisshelm Park</th>\n",
       "      <td>16</td>\n",
       "    </tr>\n",
       "    <tr>\n",
       "      <th>Chartiers City</th>\n",
       "      <td>15</td>\n",
       "    </tr>\n",
       "    <tr>\n",
       "      <th>Arlington Heights</th>\n",
       "      <td>13</td>\n",
       "    </tr>\n",
       "    <tr>\n",
       "      <th>Oakwood</th>\n",
       "      <td>13</td>\n",
       "    </tr>\n",
       "    <tr>\n",
       "      <th>Ridgemont</th>\n",
       "      <td>12</td>\n",
       "    </tr>\n",
       "    <tr>\n",
       "      <th>St. Clair</th>\n",
       "      <td>11</td>\n",
       "    </tr>\n",
       "    <tr>\n",
       "      <th>East Carnegie</th>\n",
       "      <td>11</td>\n",
       "    </tr>\n",
       "    <tr>\n",
       "      <th>Mt. Oliver</th>\n",
       "      <td>11</td>\n",
       "    </tr>\n",
       "    <tr>\n",
       "      <th>Regent Square</th>\n",
       "      <td>9</td>\n",
       "    </tr>\n",
       "    <tr>\n",
       "      <th>Mount Oliver Borough</th>\n",
       "      <td>6</td>\n",
       "    </tr>\n",
       "  </tbody>\n",
       "</table>\n",
       "</div>"
      ],
      "text/plain": [
       "                      Number of fires\n",
       "Neighborhoods                        \n",
       "Swisshelm Park                     16\n",
       "Chartiers City                     15\n",
       "Arlington Heights                  13\n",
       "Oakwood                            13\n",
       "Ridgemont                          12\n",
       "St. Clair                          11\n",
       "East Carnegie                      11\n",
       "Mt. Oliver                         11\n",
       "Regent Square                       9\n",
       "Mount Oliver Borough                6"
      ]
     },
     "execution_count": 63,
     "metadata": {},
     "output_type": "execute_result"
    }
   ],
   "source": [
    "fires.tail(10)"
   ]
  },
  {
   "cell_type": "markdown",
   "metadata": {},
   "source": [
    "**Visually represented:**"
   ]
  },
  {
   "cell_type": "code",
   "execution_count": 67,
   "metadata": {},
   "outputs": [
    {
     "data": {
      "image/png": "[encoded data removed]",
      "text/plain": [
       "<Figure size 432x288 with 1 Axes>"
      ]
     },
     "metadata": {
      "needs_background": "light"
     },
     "output_type": "display_data"
    }
   ],
   "source": [
    "%matplotlib inline\n",
    "fires.plot.bar(title='Amount of Fires in each Neighborhood ')\n",
    "plt.xlabel(\"Neighborhoods\")\n",
    "plt.ylabel(\"Amount of fires\")\n",
    "plt.show()"
   ]
  },
  {
   "cell_type": "markdown",
   "metadata": {},
   "source": [
    "-----------------------------"
   ]
  },
  {
   "cell_type": "markdown",
   "metadata": {},
   "source": [
    "<font size=\"3\">$\\color{Blue}{\\text{3. Results}}$</font>"
   ]
  },
  {
   "cell_type": "markdown",
   "metadata": {},
   "source": [
    "![Bye!](https://media.giphy.com/media/3oz8xTAJIQD6JWfTUc/giphy.gif)"
   ]
  },
  {
   "cell_type": "markdown",
   "metadata": {},
   "source": [
    "I'm not from Pittsburgh so I dont have a preference on neighborhoods. Based on the data, **Carrick** has had the highest amount of fires in the past year and **Mount Oliver Borough** for the least amount of fires.\n",
    "Making Squirrel Hill South the least safe and Beechview and Greenfield the safest community in Pittsburgh. "
   ]
  },
  {
   "cell_type": "code",
   "execution_count": null,
   "metadata": {},
   "outputs": [],
   "source": []
  }
 ],
 "metadata": {
  "kernelspec": {
   "display_name": "Python 3",
   "language": "python",
   "name": "python3"
  },
  "language_info": {
   "codemirror_mode": {
    "name": "ipython",
    "version": 3
   },
   "file_extension": ".py",
   "mimetype": "text/x-python",
   "name": "python",
   "nbconvert_exporter": "python",
   "pygments_lexer": "ipython3",
   "version": "3.8.3"
  }
 },
 "nbformat": 4,
 "nbformat_minor": 4
}
