{
 "cells": [
  {
   "cell_type": "markdown",
   "metadata": {},
   "source": [
    "# <font color='orange'> Safest Neighborhood in Pittsburgh\n",
    "**Alexa Mckee, Eva Choudhury, Gabriela Diaz**\n",
    "\n",
    "## <font color='gold'>Introduction\n",
    "\n",
    "Hi :-)! Welcome to Evaxaby's CMPINF 0010 Final Project\n",
    "\n",
    "![woooo](https://media0.giphy.com/media/yALcFbrKshfoY/giphy.gif?cid=ecf05e479qo7tm9eopkorrb2p099gkudujgodse5x837qw0t&rid=giphy.gif&ct=g)\n",
    "\n",
    "We decided to Find the safest neighborhood in Pittsburgh following the below metrics\n",
    "\n",
    "## <font color='gold'> Metrics Used\n",
    "* Fire incidents in Pittsburgh (Gaby) (https://data.wprdc.org/dataset/fire-incidents-in-city-of-pittsburgh/resource/8d76ac6b-5ae8-4428-82a4-043130d17b02?view_id=db1ccf7c-fab0-4d5c-af3e-245ebe766be2)\n",
    "    \n",
    "* COVID-19 Infections (Alexa) https://data.wprdc.org/dataset/allegheny-county-covid-19-tests-cases-and-deaths/resource/0f214885-ff3e-44e1-9963-e9e9062a04d1\n",
    "\n",
    "##  <font color='gold'>  Final Winner :0 !!\n",
    "...\n",
    "    \n",
    "![winna](https://media.giphy.com/media/E549VaHiMjknS/giphy.gif)\n",
    "    \n",
    "##  <font color='gold'>  Conclusions\n",
    "\n",
    "- Alexa\n",
    "...\n",
    "\n",
    "- Eva\n",
    "...\n",
    "\n",
    "- Gaby\n",
    "I'm not from Pittsburgh so I dont have a preference on neighborhoods. Based on the data, **Squirrel Hill South** has had the highest amount of fires in the past year and **Beechview** and **Greenfield** were tied for the least amount of fires.
Making Squirrel Hill South the least safe and Beechview and Greenfield the safest community in Pittsburgh. "
   ]
  }
 ],
 "metadata": {
  "kernelspec": {
   "display_name": "Python 3",
   "language": "python",
   "name": "python3"
  },
  "language_info": {
   "codemirror_mode": {
    "name": "ipython",
    "version": 3
   },
   "file_extension": ".py",
   "mimetype": "text/x-python",
   "name": "python",
   "nbconvert_exporter": "python",
   "pygments_lexer": "ipython3",
   "version": "3.8.3"
  }
 },
 "nbformat": 4,
 "nbformat_minor": 4
}
